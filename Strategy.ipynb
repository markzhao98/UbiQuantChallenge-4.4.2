{
 "cells": [
  {
   "cell_type": "markdown",
   "source": [
    "在这个notebook中，我们\n",
    "\n",
    "- 已知：hf&hhf模型预测结果，当前仓位\n",
    "- 目标：输出仓位变动，报单价格\n",
    "\n",
    "这里的代码做为返回策略线程的基础。"
   ],
   "metadata": {}
  },
  {
   "cell_type": "code",
   "execution_count": 1,
   "source": [
    "import numpy as np\n",
    "import pandas as pd\n",
    "import pickle\n",
    "import matplotlib.pyplot as plt\n",
    "import time\n",
    "\n",
    "pd.options.mode.chained_assignment = None"
   ],
   "outputs": [],
   "metadata": {}
  },
  {
   "cell_type": "code",
   "execution_count": 2,
   "source": [
    "hf_portion = 2/3  # hf交易占全部交易的权重\n",
    "leverage = 1.99  # 杠杆率\n",
    "\n",
    "capital = 2e8\n",
    "K = capital * leverage  # 可操作资金\n",
    "current_pos = np.random.rand(500) # 当前仓位"
   ],
   "outputs": [],
   "metadata": {}
  },
  {
   "cell_type": "code",
   "execution_count": 3,
   "source": [
    "# 每个tick拿到数据计算因子 --> 放入模型预测 --> 返回策略输出\n",
    "\n",
    "newdata = np.random.rand(500, 48) # 新拿到的数据\n",
    "alphas = np.random.rand(500, 23)  # 计算出的因子"
   ],
   "outputs": [],
   "metadata": {}
  },
  {
   "cell_type": "markdown",
   "source": [
    "# hf（预测10ticks）部分"
   ],
   "metadata": {}
  },
  {
   "cell_type": "code",
   "execution_count": 4,
   "source": [
    "hf_holding = 10  # 持有周期（单位：tick）\n",
    "hf_num_newpos = 15  # 每轮分别新做多和做空股数\n",
    "# hf_weights_d = np.array([1.35, 1.3, 1.25, 1.2, 1.15, 1.1, 1.05, 1, \n",
    "#                          0.95, 0.9, 0.85, 0.8, 0.75, 0.7, 0.65])\n",
    "hf_weights_d = np.array([1.7, 1.6, 1.5, 1.4, 1.3, 1.2, 1.1, 1, \n",
    "                         0.9, 0.8, 0.7, 0.6, 0.5, 0.4, 0.3])\n",
    "hf_weights_a = np.flip(hf_weights_d)\n",
    "# keep track of newly initiatied positions from the previous 10 ticks\n",
    "hf_track_newpos = np.zeros([hf_holding, 500])"
   ],
   "outputs": [],
   "metadata": {}
  },
  {
   "cell_type": "code",
   "execution_count": 5,
   "source": [
    "hf_loaded_model = pickle.load(open('Models/GB_23_full.sav', 'rb')) # hf 模型"
   ],
   "outputs": [],
   "metadata": {}
  },
  {
   "cell_type": "code",
   "execution_count": 6,
   "source": [
    "hf_pred = hf_loaded_model.predict(alphas) # shape (500)"
   ],
   "outputs": [],
   "metadata": {}
  },
  {
   "cell_type": "code",
   "execution_count": 7,
   "source": [
    "hf_longstock = hf_pred.argsort()[-hf_num_newpos:] # 做多哪些股票\n",
    "hf_shortstock = hf_pred.argsort()[:hf_num_newpos] # 做空哪些股票\n",
    "\n",
    "hf_newpos = np.zeros(500)\n",
    "\n",
    "hf_afford = K*hf_portion/(2*hf_num_newpos)/hf_holding/newdata[:,5]\n",
    "\n",
    "hf_newpos[hf_longstock] = hf_afford[hf_longstock] * hf_weights_a # 非等权做多\n",
    "hf_newpos[hf_shortstock] = - hf_afford[hf_shortstock] * hf_weights_d # 非等权做空\n",
    "\n",
    "hf_track_newpos = np.append(hf_track_newpos, np.array([hf_newpos]), axis = 0)[1:]\n",
    "\n",
    "hf_obj_pos = hf_track_newpos.sum(axis = 0)"
   ],
   "outputs": [],
   "metadata": {}
  },
  {
   "cell_type": "markdown",
   "source": [
    "# hhf（预测5ticks）部分"
   ],
   "metadata": {}
  },
  {
   "cell_type": "code",
   "execution_count": 8,
   "source": [
    "hhf_holding = 5  # 持有周期（单位：tick）\n",
    "hhf_num_newpos = 15  # 每轮分别新做多和做空股数\n",
    "# hf_weights_d = np.array([1.35, 1.3, 1.25, 1.2, 1.15, 1.1, 1.05, 1, \n",
    "#                          0.95, 0.9, 0.85, 0.8, 0.75, 0.7, 0.65])\n",
    "hhf_weights_d = np.array([1.7, 1.6, 1.5, 1.4, 1.3, 1.2, 1.1, 1, \n",
    "                         0.9, 0.8, 0.7, 0.6, 0.5, 0.4, 0.3])\n",
    "hhf_weights_a = np.flip(hf_weights_d)\n",
    "# keep track of newly initiatied positions from the previous 5 ticks\n",
    "hhf_track_newpos = np.zeros([hhf_holding, 500])"
   ],
   "outputs": [],
   "metadata": {}
  },
  {
   "cell_type": "code",
   "execution_count": 9,
   "source": [
    "hhf_loaded_model = pickle.load(open('Models/GB_23_full.sav', 'rb')) # hhf 模型"
   ],
   "outputs": [],
   "metadata": {}
  },
  {
   "cell_type": "code",
   "execution_count": 10,
   "source": [
    "hhf_pred = hhf_loaded_model.predict(alphas) # shape (500)"
   ],
   "outputs": [],
   "metadata": {}
  },
  {
   "cell_type": "code",
   "execution_count": 11,
   "source": [
    "hhf_longstock = hhf_pred.argsort()[-hhf_num_newpos:] # 做多哪些股票\n",
    "hhf_shortstock = hhf_pred.argsort()[:hhf_num_newpos] # 做空哪些股票\n",
    "\n",
    "hhf_newpos = np.zeros(500)\n",
    "\n",
    "hhf_afford = K*(1-hf_portion)/(2*hhf_num_newpos)/hhf_holding/newdata[:,5]\n",
    "\n",
    "hhf_newpos[hhf_longstock] = hhf_afford[hhf_longstock] * hhf_weights_a # 非等权做多\n",
    "hhf_newpos[hhf_shortstock] = -hhf_afford[hhf_shortstock] * hhf_weights_d # 非等权做空\n",
    "\n",
    "hhf_track_newpos = np.append(hhf_track_newpos, np.array([hhf_newpos]), axis = 0)[1:]\n",
    "\n",
    "hhf_obj_pos = hhf_track_newpos.sum(axis = 0)"
   ],
   "outputs": [],
   "metadata": {}
  },
  {
   "cell_type": "markdown",
   "source": [
    "# submission"
   ],
   "metadata": {}
  },
  {
   "cell_type": "code",
   "execution_count": 14,
   "source": [
    "submit_pos = hf_obj_pos + hhf_obj_pos - current_pos  # 提交仓位变化\n",
    "\n",
    "# 做多报当前tick卖盘ask5，做空报当前tick买盘bid5（几乎保证成交）\n",
    "bid5 = newdata[:,16]\n",
    "ask5 = newdata[:,36]\n",
    "submit_price = ask5 * (submit_pos > 0) + bid5 * (submit_pos < 0)  # 提交报单价格"
   ],
   "outputs": [],
   "metadata": {}
  },
  {
   "cell_type": "code",
   "execution_count": null,
   "source": [],
   "outputs": [],
   "metadata": {}
  },
  {
   "cell_type": "code",
   "execution_count": null,
   "source": [],
   "outputs": [],
   "metadata": {}
  },
  {
   "cell_type": "markdown",
   "source": [
    "若accruacy为$0.53$，优势为$0.6=2\\times15/500$。"
   ],
   "metadata": {}
  },
  {
   "cell_type": "code",
   "execution_count": null,
   "source": [],
   "outputs": [],
   "metadata": {}
  },
  {
   "cell_type": "code",
   "execution_count": null,
   "source": [],
   "outputs": [],
   "metadata": {}
  }
 ],
 "metadata": {
  "kernelspec": {
   "display_name": "Python 3",
   "language": "python",
   "name": "python3"
  },
  "language_info": {
   "codemirror_mode": {
    "name": "ipython",
    "version": 3
   },
   "file_extension": ".py",
   "mimetype": "text/x-python",
   "name": "python",
   "nbconvert_exporter": "python",
   "pygments_lexer": "ipython3",
   "version": "3.6.6"
  }
 },
 "nbformat": 4,
 "nbformat_minor": 2
}