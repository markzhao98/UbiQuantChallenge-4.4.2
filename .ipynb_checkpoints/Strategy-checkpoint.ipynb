{
 "cells": [
  {
   "cell_type": "markdown",
   "metadata": {},
   "source": [
    "在这个notebook中，我们\n",
    "\n",
    "- 已知：高低频模型预测结果，当前仓位\n",
    "- 目标：输出仓位变动，报单价格\n",
    "\n",
    "这里的代码做为返回策略线程的基础。"
   ]
  },
  {
   "cell_type": "code",
   "execution_count": 1,
   "metadata": {},
   "outputs": [],
   "source": [
    "import numpy as np\n",
    "import pandas as pd\n",
    "import pickle\n",
    "import matplotlib.pyplot as plt\n",
    "import time\n",
    "\n",
    "pd.options.mode.chained_assignment = None"
   ]
  },
  {
   "cell_type": "markdown",
   "metadata": {},
   "source": [
    "# 高频部分"
   ]
  },
  {
   "cell_type": "code",
   "execution_count": 2,
   "metadata": {},
   "outputs": [],
   "source": [
    "leverage = 1.8  # 杠杆率\n",
    "holding = 10  # 持有周期\n",
    "num_newpos = 25  # 每轮分别新做多和做空股数\n",
    "\n",
    "capital = 2e8\n",
    "K = capital * leverage  # 可操作资金"
   ]
  },
  {
   "cell_type": "code",
   "execution_count": 3,
   "metadata": {},
   "outputs": [],
   "source": [
    "# 每个tick拿到数据计算因子 --> 放入模型预测 --> 返回策略输出"
   ]
  },
  {
   "cell_type": "code",
   "execution_count": 4,
   "metadata": {},
   "outputs": [],
   "source": [
    "model = pickle.load(open('Models/MLP_SOIR.sav', 'rb')) # 使用的模型"
   ]
  },
  {
   "cell_type": "code",
   "execution_count": 5,
   "metadata": {},
   "outputs": [],
   "source": [
    "track_newpos = np.zeros([holding, 500]) # keep track of newly initiatied positions from the previous 10 ticks\n",
    "\n",
    "newdata = np.random.rand(500, 48) # 新拿到的数据 (newdata[:,8] = bid1_price, newdata[:,28] = ask1_price)\n",
    "alphas = np.random.rand(500, 10)  # 计算出的因子\n",
    "current_pos = np.random.rand(500) # 当前仓位"
   ]
  },
  {
   "cell_type": "code",
   "execution_count": 6,
   "metadata": {},
   "outputs": [],
   "source": [
    "pred = model.predict(alphas) # shape (500)"
   ]
  },
  {
   "cell_type": "code",
   "execution_count": 7,
   "metadata": {},
   "outputs": [],
   "source": [
    "longstock = pred.argsort()[-num_newpos:] # 做多哪些股票\n",
    "shortstock = pred.argsort()[:num_newpos] # 做空哪些股票\n",
    "\n",
    "newpos = np.zeros(500)\n",
    "\n",
    "afford = capital*leverage/(2*num_newpos)/holding/newdata[:,5]\n",
    "\n",
    "newpos[longstock] = afford[longstock]\n",
    "newpos[shortstock] = -afford[shortstock]\n",
    "\n",
    "track_newpos = np.append(track_newpos, np.array([newpos]), axis = 0)[1:]\n",
    "\n",
    "obj_pos = track_newpos.sum(axis = 0)\n",
    "\n",
    "submit_pos = obj_pos - current_pos  # 提交仓位变化\n",
    "\n",
    "bid1 = newdata[:,8]\n",
    "ask1 = newdata[:,28]\n",
    "\n",
    "# 做多报卖盘最优价（ask1），做空报买盘最优价（bid1）\n",
    "\n",
    "price = ask1 * (submit_pos > 0) + bid1 * (submit_pos < 0)  # 提交报单价格"
   ]
  },
  {
   "cell_type": "code",
   "execution_count": null,
   "metadata": {},
   "outputs": [],
   "source": []
  },
  {
   "cell_type": "code",
   "execution_count": null,
   "metadata": {},
   "outputs": [],
   "source": []
  },
  {
   "cell_type": "code",
   "execution_count": null,
   "metadata": {},
   "outputs": [],
   "source": []
  },
  {
   "cell_type": "code",
   "execution_count": null,
   "metadata": {},
   "outputs": [],
   "source": []
  }
 ],
 "metadata": {
  "kernelspec": {
   "display_name": "Python 3",
   "language": "python",
   "name": "python3"
  },
  "language_info": {
   "codemirror_mode": {
    "name": "ipython",
    "version": 3
   },
   "file_extension": ".py",
   "mimetype": "text/x-python",
   "name": "python",
   "nbconvert_exporter": "python",
   "pygments_lexer": "ipython3",
   "version": "3.6.6"
  }
 },
 "nbformat": 4,
 "nbformat_minor": 2
}
